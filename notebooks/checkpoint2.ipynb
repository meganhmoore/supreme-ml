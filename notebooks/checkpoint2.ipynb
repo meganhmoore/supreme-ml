{
 "cells": [
  {
   "cell_type": "code",
   "execution_count": 1,
   "metadata": {},
   "outputs": [],
   "source": [
    "from convokit import Corpus, Conversation, Utterance, Speaker, FightingWords, download\n",
    "from datetime import datetime\n",
    "import json\n",
    "import matplotlib.pyplot as plt\n",
    "import numpy as np\n",
    "import pandas as pd\n",
    "import re\n",
    "from sklearn.feature_extraction.text import TfidfVectorizer\n",
    "from sklearn.feature_selection import SelectKBest\n",
    "from sklearn.feature_selection import f_classif\n",
    "from sklearn.metrics import accuracy_score, roc_curve, roc_auc_score\n",
    "from sklearn.model_selection import train_test_split\n",
    "from sklearn.linear_model import LogisticRegression\n",
    "from sklearn.feature_extraction.text import ENGLISH_STOP_WORDS\n",
    "from sklearn.neural_network import MLPClassifier"
   ]
  },
  {
   "attachments": {},
   "cell_type": "markdown",
   "metadata": {},
   "source": [
    "## 1. Data Pre-Processing"
   ]
  },
  {
   "cell_type": "code",
   "execution_count": 2,
   "metadata": {},
   "outputs": [
    {
     "name": "stdout",
     "output_type": "stream",
     "text": [
      "Dataset already exists at /Users/betty/.convokit/downloads/supreme-1994\n",
      "Dataset already exists at /Users/betty/.convokit/downloads/supreme-1995\n",
      "\u001b[91mWARNING: \u001b[0mFound conflicting values for Corpus metadata key: 'name'. Overwriting with other Corpus's metadata.\n",
      "\u001b[91mWARNING: \u001b[0mFound conflicting values for Corpus metadata key: 'year'. Overwriting with other Corpus's metadata.\n",
      "Dataset already exists at /Users/betty/.convokit/downloads/supreme-1996\n",
      "\u001b[91mWARNING: \u001b[0mFound conflicting values for Corpus metadata key: 'name'. Overwriting with other Corpus's metadata.\n",
      "\u001b[91mWARNING: \u001b[0mFound conflicting values for Corpus metadata key: 'year'. Overwriting with other Corpus's metadata.\n",
      "Dataset already exists at /Users/betty/.convokit/downloads/supreme-1997\n",
      "\u001b[91mWARNING: \u001b[0mFound conflicting values for Corpus metadata key: 'name'. Overwriting with other Corpus's metadata.\n",
      "\u001b[91mWARNING: \u001b[0mFound conflicting values for Corpus metadata key: 'year'. Overwriting with other Corpus's metadata.\n",
      "Dataset already exists at /Users/betty/.convokit/downloads/supreme-1998\n",
      "\u001b[91mWARNING: \u001b[0mFound conflicting values for Corpus metadata key: 'name'. Overwriting with other Corpus's metadata.\n",
      "\u001b[91mWARNING: \u001b[0mFound conflicting values for Corpus metadata key: 'year'. Overwriting with other Corpus's metadata.\n",
      "Dataset already exists at /Users/betty/.convokit/downloads/supreme-1999\n",
      "\u001b[91mWARNING: \u001b[0mFound conflicting values for Corpus metadata key: 'name'. Overwriting with other Corpus's metadata.\n",
      "\u001b[91mWARNING: \u001b[0mFound conflicting values for Corpus metadata key: 'year'. Overwriting with other Corpus's metadata.\n",
      "Dataset already exists at /Users/betty/.convokit/downloads/supreme-2000\n",
      "\u001b[91mWARNING: \u001b[0mFound conflicting values for Corpus metadata key: 'name'. Overwriting with other Corpus's metadata.\n",
      "\u001b[91mWARNING: \u001b[0mFound conflicting values for Corpus metadata key: 'year'. Overwriting with other Corpus's metadata.\n",
      "Dataset already exists at /Users/betty/.convokit/downloads/supreme-2001\n",
      "\u001b[91mWARNING: \u001b[0mFound conflicting values for Corpus metadata key: 'name'. Overwriting with other Corpus's metadata.\n",
      "\u001b[91mWARNING: \u001b[0mFound conflicting values for Corpus metadata key: 'year'. Overwriting with other Corpus's metadata.\n",
      "Dataset already exists at /Users/betty/.convokit/downloads/supreme-2002\n",
      "\u001b[91mWARNING: \u001b[0mFound conflicting values for Corpus metadata key: 'name'. Overwriting with other Corpus's metadata.\n",
      "\u001b[91mWARNING: \u001b[0mFound conflicting values for Corpus metadata key: 'year'. Overwriting with other Corpus's metadata.\n",
      "Dataset already exists at /Users/betty/.convokit/downloads/supreme-2003\n",
      "\u001b[91mWARNING: \u001b[0mFound conflicting values for Corpus metadata key: 'name'. Overwriting with other Corpus's metadata.\n",
      "\u001b[91mWARNING: \u001b[0mFound conflicting values for Corpus metadata key: 'year'. Overwriting with other Corpus's metadata.\n",
      "Dataset already exists at /Users/betty/.convokit/downloads/supreme-2004\n",
      "\u001b[91mWARNING: \u001b[0mFound conflicting values for Corpus metadata key: 'name'. Overwriting with other Corpus's metadata.\n",
      "\u001b[91mWARNING: \u001b[0mFound conflicting values for Corpus metadata key: 'year'. Overwriting with other Corpus's metadata.\n",
      "Dataset already exists at /Users/betty/.convokit/downloads/supreme-2005\n",
      "\u001b[91mWARNING: \u001b[0mFound conflicting values for Corpus metadata key: 'name'. Overwriting with other Corpus's metadata.\n",
      "\u001b[91mWARNING: \u001b[0mFound conflicting values for Corpus metadata key: 'year'. Overwriting with other Corpus's metadata.\n",
      "Dataset already exists at /Users/betty/.convokit/downloads/supreme-2010\n",
      "Dataset already exists at /Users/betty/.convokit/downloads/supreme-2011\n",
      "\u001b[91mWARNING: \u001b[0mFound conflicting values for Corpus metadata key: 'name'. Overwriting with other Corpus's metadata.\n",
      "\u001b[91mWARNING: \u001b[0mFound conflicting values for Corpus metadata key: 'year'. Overwriting with other Corpus's metadata.\n",
      "Dataset already exists at /Users/betty/.convokit/downloads/supreme-2012\n",
      "\u001b[91mWARNING: \u001b[0mFound conflicting values for Corpus metadata key: 'name'. Overwriting with other Corpus's metadata.\n",
      "\u001b[91mWARNING: \u001b[0mFound conflicting values for Corpus metadata key: 'year'. Overwriting with other Corpus's metadata.\n",
      "Dataset already exists at /Users/betty/.convokit/downloads/supreme-2013\n",
      "\u001b[91mWARNING: \u001b[0mFound conflicting values for Corpus metadata key: 'name'. Overwriting with other Corpus's metadata.\n",
      "\u001b[91mWARNING: \u001b[0mFound conflicting values for Corpus metadata key: 'year'. Overwriting with other Corpus's metadata.\n",
      "Dataset already exists at /Users/betty/.convokit/downloads/supreme-2014\n",
      "\u001b[91mWARNING: \u001b[0mFound conflicting values for Corpus metadata key: 'name'. Overwriting with other Corpus's metadata.\n",
      "\u001b[91mWARNING: \u001b[0mFound conflicting values for Corpus metadata key: 'year'. Overwriting with other Corpus's metadata.\n",
      "Dataset already exists at /Users/betty/.convokit/downloads/supreme-2015\n",
      "\u001b[91mWARNING: \u001b[0mFound conflicting values for Corpus metadata key: 'name'. Overwriting with other Corpus's metadata.\n",
      "\u001b[91mWARNING: \u001b[0mFound conflicting values for Corpus metadata key: 'year'. Overwriting with other Corpus's metadata.\n",
      "Dataset already exists at /Users/betty/.convokit/downloads/supreme-2016\n",
      "\u001b[91mWARNING: \u001b[0mFound conflicting values for Corpus metadata key: 'name'. Overwriting with other Corpus's metadata.\n",
      "\u001b[91mWARNING: \u001b[0mFound conflicting values for Corpus metadata key: 'year'. Overwriting with other Corpus's metadata.\n"
     ]
    }
   ],
   "source": [
    "# Same as Checkpoint 1:\n",
    "# Filter for the years of the Supreme Court Case corpus that are a part\n",
    "# of the Rehnquist 7 and Roberts 4 natural courts\n",
    "\n",
    "rehnquist_years = [i for i in range(1994,2006)]\n",
    "rehnquist_corpus = None\n",
    "for year in rehnquist_years:\n",
    "    corp = Corpus(filename=download(f\"supreme-{year}\"))\n",
    "    if not rehnquist_corpus:\n",
    "        rehnquist_corpus = corp\n",
    "    else:\n",
    "        rehnquist_corpus = Corpus.merge(rehnquist_corpus, corp)\n",
    "\n",
    "roberts_years = [i for i in range(2010,2017)]\n",
    "roberts_corpus = None\n",
    "for year in roberts_years:\n",
    "    corp = Corpus(filename=download(f\"supreme-{year}\"))\n",
    "    if not roberts_corpus:\n",
    "        roberts_corpus = corp\n",
    "    else:\n",
    "        roberts_corpus = Corpus.merge(roberts_corpus, corp)\n",
    "\n",
    "\n",
    "# Using the start and end dates of both natural courts, filter for the\n",
    "# relevant case ids, removing cases belonging to the previous or the following courts\n",
    "with open('../data/cases.json', \"r\") as f:\n",
    "    data = [json.loads(line) for line in f]\n",
    "    begin_date_rehn7 = datetime.strptime('Aug 3, 1994', '%b %d, %Y')\n",
    "    end_date_rehn7 = datetime.strptime('Sep 28, 2005','%b %d, %Y')\n",
    "    begin_date_rob4 = datetime.strptime('Aug 7, 2010', '%b %d, %Y')\n",
    "    end_date_rob4 = datetime.strptime('Feb 13, 2016', '%b %d, %Y')\n",
    "    case_ids_rehn7 = []\n",
    "    case_ids_rob4 = []\n",
    "    for case in data:\n",
    "        str_date = case[\"decided_date\"]\n",
    "        if isinstance(str_date, str):\n",
    "            num_date = datetime.strptime(str_date, '%b %d, %Y')\n",
    "            if num_date >= begin_date_rehn7 and num_date <= end_date_rehn7:\n",
    "                case_ids_rehn7.append(case[\"id\"])\n",
    "            if num_date >= begin_date_rob4 and num_date <= end_date_rob4:\n",
    "                case_ids_rob4.append(case[\"id\"])\n",
    "with open('../data/filtered_cases.json', \"w\") as f2:\n",
    "    json.dump({\"rehn7\": case_ids_rehn7,\"rob4\": case_ids_rob4}, f2, indent=1)\n",
    "\n",
    "rehnquist_corpus = rehnquist_corpus.filter_conversations_by(lambda u: str(u.meta[\"case_id\"]) in case_ids_rehn7) # complete rehnquist 7 court corpus\n",
    "roberts_corpus = roberts_corpus.filter_conversations_by(lambda u: u.meta[\"case_id\"] in case_ids_rob4) # complete roberts 4 court corpus"
   ]
  },
  {
   "cell_type": "code",
   "execution_count": 3,
   "metadata": {},
   "outputs": [],
   "source": [
    "# Get the conversation dataframe for each court\n",
    "rehnquist_convo_df = rehnquist_corpus.get_conversations_dataframe()\n",
    "roberts_convo_df = roberts_corpus.get_conversations_dataframe()\n",
    "\n",
    "# Use meta.win_side to split each conversation dataframe into \n",
    "# wins (1) - petitioning party received a favorable disposition, and\n",
    "# losses (0) - no favorable disposition for petitioning party\n",
    "rehnquist_wins_df = rehnquist_convo_df.loc[rehnquist_convo_df.loc[:, 'meta.win_side'] == 1, :]\n",
    "rehnquist_losses_df = rehnquist_convo_df.loc[rehnquist_convo_df.loc[:, 'meta.win_side'] == 0, :]\n",
    "\n",
    "roberts_wins_df = roberts_convo_df.loc[roberts_convo_df.loc[:, 'meta.win_side'] == 1, :]\n",
    "roberts_losses_df = roberts_convo_df.loc[roberts_convo_df.loc[:, 'meta.win_side'] == 0, :]"
   ]
  },
  {
   "attachments": {},
   "cell_type": "markdown",
   "metadata": {},
   "source": [
    "## Baseline Setting\n",
    "Before beginning the process to create predictions, we establish a baseline to help us evaluate our model's performance. In both courts, the majority of case outcomes is 1 - petitioning party received a favorable disposition: slightly above 60% of both court outcomes. The fact that there is not a perfect 50/50 split between win (1) and lose (0) outcomes is not surprising since the Supreme Court selects cases to hear. This likely biases the Supreme Court to take more cases where the Court has an interest in overturning a lower court's decision. Conversely, the Supreme Court would be less likely to select cases where a lower court's existing decision would simply be upheld or affirmed.\n",
    "\n",
    "### Findings\n",
    "We found that for the Rehnquist 7 Court, there are a total of 862 cases, 543 of which had an outcome of 1. This means that if we were to predict a win (1) for every case, we would be correct 63% of the time.\n",
    "\n",
    "For the Roberts 4 Court there are a total of 351 cases, 225 of which won. If we were to perdict a win (1) for every case, we would be correct 64% of the time. \n",
    "\n",
    "Therefore our model will need to perform at these baselines or better. "
   ]
  },
  {
   "cell_type": "code",
   "execution_count": 4,
   "metadata": {},
   "outputs": [
    {
     "name": "stdout",
     "output_type": "stream",
     "text": [
      "meta.win_side\n",
      "1.0              543\n",
      "0.0              318\n",
      "2.0                1\n",
      "Name: count, dtype: int64\n",
      "meta.win_side\n",
      "1                225\n",
      "0                126\n",
      "Name: count, dtype: int64\n"
     ]
    }
   ],
   "source": [
    "# Calculate baseline probabilities: identify the majority outcome\n",
    "# for each court and the probability of that outcome\n",
    "\n",
    "# Rehnquist 7 Court baseline: 543/862 = ~ 63%\n",
    "# Roberts 4 Court baseline: 225/351 = ~ 64%\n",
    "rehn7_outcome_count = rehnquist_convo_df.groupby('meta.case_id', as_index=True).agg({'meta.win_side': 'max'}).loc[: 'meta.win_side'].value_counts()\n",
    "rob4_outcome_count = roberts_convo_df.groupby('meta.case_id', as_index=True).agg({'meta.win_side': 'max'}).loc[: 'meta.win_side'].value_counts()\n",
    "\n",
    "print(rehn7_outcome_count)\n",
    "print(rob4_outcome_count)"
   ]
  },
  {
   "attachments": {},
   "cell_type": "markdown",
   "metadata": {},
   "source": [
    "### Data Preparation - Join, Stratification, Clean, Train/Test Split\n",
    "We chose the following initial data preparation process based on [this resource](https://developers.google.com/machine-learning/guides/text-classification/step-2-5) and determined our train/test split based on class dicussions.\n",
    "\n",
    "**N-gram vectorization -> bigram range -> tf-idf count mode -> f_classif scoring -> top 7k feature selection.** \n",
    "\n",
    "To get the text and label data necessary to train the model - the first step of which is N-gram vectorization, we need to join utterance-level data (text strings) with conversation-level data (outcomes) by case-ids, clean the data to remove outliers in case outcomes (2 and Nones), and finally split the data (approximately 70/20/10). By using random assignment, we attempt to prevent overfitting on certain years, certain cases, or certain speaker types. By using stratification, we balance speaker types across train/validation/test during splitting. \n",
    "\n",
    "The Rehnquist 7 Court case outcomes include 2 - favorable disposition for petitioning party unclear - and Nones. The utterances and conversations with these court outcomes are filtered out.\n",
    "\n",
    "Using the train_test_split, we randomly assign 70% of the utterances to the training set, and then split the remaining data into test and validation so that approximately 18% of the whole data set is set aside for validation and thee remaining 12% is set aside for testing. \n",
    "\n",
    "We select the 7,000 most relevant features, which accounts for ~1/5 of the total ~37,000 features (n-grams) we extract from the Roberts justice dataset.\n"
   ]
  },
  {
   "cell_type": "code",
   "execution_count": 5,
   "metadata": {},
   "outputs": [],
   "source": [
    "#  Get the dataframes of utterances from the Rehnquist 7 and Roberts 4 corpuses\n",
    "rehnquist_utterances_df= rehnquist_corpus.get_utterances_dataframe()\n",
    "roberts_utterances_df= roberts_corpus.get_utterances_dataframe()\n",
    "\n",
    "# Filter out conversations with only 1 utt\n",
    "unique_roberts = roberts_utterances_df.loc[:, 'conversation_id'].value_counts()\n",
    "roberts_utterances_df = roberts_utterances_df.loc[roberts_utterances_df['conversation_id'].map(unique_roberts) > 1,:]\n",
    "\n",
    "unique_rehnquist = rehnquist_utterances_df.loc[:, 'conversation_id'].value_counts()\n",
    "rehnquist_utterances_df = rehnquist_utterances_df.loc[rehnquist_utterances_df['conversation_id'].map(unique_rehnquist) > 1,:]\n",
    "\n",
    "\n",
    "# join utterance dataframes with conversation dataframes on case ids\n",
    "rehn_merge = rehnquist_utterances_df.merge(rehnquist_convo_df, how = 'left', on = 'meta.case_id')\n",
    "rob_merge = roberts_utterances_df.merge(roberts_convo_df, how = 'left', on = 'meta.case_id')\n",
    "\n",
    "rehn_merge.loc[:, 'meta.win_side'].unique()\n",
    "rob_merge.loc[:, 'meta.win_side'].unique()\n",
    "\n",
    "# drop rows where case outcome is 2 or None\n",
    "rehn_merge.drop(rehn_merge[rehn_merge['meta.win_side'] == 2].index, inplace = True)\n",
    "rehn_merge.drop(rehn_merge[rehn_merge['meta.win_side'].isna()].index, inplace = True)\n",
    "\n",
    "# to evaluate the need to stratify, use meta.speaker_type column to assess\n",
    "# distribution of speaker types (J: justice, A: advocate) across utterances\n",
    "rehn_merge.loc[:, 'meta.speaker_type'].value_counts()\n",
    "rob_merge.loc[:, 'meta.speaker_type'].value_counts()\n",
    "\n",
    "# roberts court: J - 44655, A - 41397\n",
    "# rehnquist court: J - 106126A, A - 106777\n",
    "\n",
    "# we filter out nulls, to allow stratification by speaker\n",
    "rob_merge = rob_merge.loc[rob_merge.loc[:, 'meta.speaker_type'].notnull()]\n",
    "rehn_merge = rehn_merge.loc[rehn_merge.loc[:, 'meta.speaker_type'].notnull()]\n",
    "\n",
    "# can add more info about the nulls (13000 for rehnquist, 300 for roberts)\n",
    "\n",
    "# keep only text, meta.win_side, and meta.speaker_type columns\n",
    "rob_final_df = rob_merge.loc[:, ['text', 'meta.win_side', 'meta.speaker_type']]\n",
    "rehn_final_df = rehn_merge.loc[:, ['text', 'meta.win_side', 'meta.speaker_type']]"
   ]
  },
  {
   "cell_type": "code",
   "execution_count": 6,
   "metadata": {},
   "outputs": [
    {
     "data": {
      "text/html": [
       "<div>\n",
       "<style scoped>\n",
       "    .dataframe tbody tr th:only-of-type {\n",
       "        vertical-align: middle;\n",
       "    }\n",
       "\n",
       "    .dataframe tbody tr th {\n",
       "        vertical-align: top;\n",
       "    }\n",
       "\n",
       "    .dataframe thead th {\n",
       "        text-align: right;\n",
       "    }\n",
       "</style>\n",
       "<table border=\"1\" class=\"dataframe\">\n",
       "  <thead>\n",
       "    <tr style=\"text-align: right;\">\n",
       "      <th></th>\n",
       "      <th>text</th>\n",
       "      <th>meta.win_side</th>\n",
       "      <th>meta.speaker_type</th>\n",
       "    </tr>\n",
       "  </thead>\n",
       "  <tbody>\n",
       "    <tr>\n",
       "      <th>0</th>\n",
       "      <td>We will hear argument next in Case 09-479, Abb...</td>\n",
       "      <td>0</td>\n",
       "      <td>J</td>\n",
       "    </tr>\n",
       "    <tr>\n",
       "      <th>2</th>\n",
       "      <td>Well, if the text of this is so clear, how is ...</td>\n",
       "      <td>0</td>\n",
       "      <td>J</td>\n",
       "    </tr>\n",
       "    <tr>\n",
       "      <th>4</th>\n",
       "      <td>But they are not the same, are they?</td>\n",
       "      <td>0</td>\n",
       "      <td>J</td>\n",
       "    </tr>\n",
       "    <tr>\n",
       "      <th>6</th>\n",
       "      <td>Isn't it -- there is a missing prepositional p...</td>\n",
       "      <td>0</td>\n",
       "      <td>J</td>\n",
       "    </tr>\n",
       "    <tr>\n",
       "      <th>8</th>\n",
       "      <td>So that means there would be no punishment, ad...</td>\n",
       "      <td>0</td>\n",
       "      <td>J</td>\n",
       "    </tr>\n",
       "    <tr>\n",
       "      <th>...</th>\n",
       "      <td>...</td>\n",
       "      <td>...</td>\n",
       "      <td>...</td>\n",
       "    </tr>\n",
       "    <tr>\n",
       "      <th>86904</th>\n",
       "      <td>Just to follow up: In -- in recent years, is i...</td>\n",
       "      <td>1</td>\n",
       "      <td>J</td>\n",
       "    </tr>\n",
       "    <tr>\n",
       "      <th>86906</th>\n",
       "      <td>No, no.\\nI'm just talking statistically.</td>\n",
       "      <td>1</td>\n",
       "      <td>J</td>\n",
       "    </tr>\n",
       "    <tr>\n",
       "      <th>86908</th>\n",
       "      <td>When you say \"taking\" them, I mean, they're be...</td>\n",
       "      <td>1</td>\n",
       "      <td>J</td>\n",
       "    </tr>\n",
       "    <tr>\n",
       "      <th>86910</th>\n",
       "      <td>On the issue of political sensitivity, if it g...</td>\n",
       "      <td>1</td>\n",
       "      <td>J</td>\n",
       "    </tr>\n",
       "    <tr>\n",
       "      <th>86912</th>\n",
       "      <td>Thank you, counsel. The case is submitted.</td>\n",
       "      <td>1</td>\n",
       "      <td>J</td>\n",
       "    </tr>\n",
       "  </tbody>\n",
       "</table>\n",
       "<p>44654 rows × 3 columns</p>\n",
       "</div>"
      ],
      "text/plain": [
       "                                                    text meta.win_side   \n",
       "0      We will hear argument next in Case 09-479, Abb...             0  \\\n",
       "2      Well, if the text of this is so clear, how is ...             0   \n",
       "4                   But they are not the same, are they?             0   \n",
       "6      Isn't it -- there is a missing prepositional p...             0   \n",
       "8      So that means there would be no punishment, ad...             0   \n",
       "...                                                  ...           ...   \n",
       "86904  Just to follow up: In -- in recent years, is i...             1   \n",
       "86906           No, no.\\nI'm just talking statistically.             1   \n",
       "86908  When you say \"taking\" them, I mean, they're be...             1   \n",
       "86910  On the issue of political sensitivity, if it g...             1   \n",
       "86912         Thank you, counsel. The case is submitted.             1   \n",
       "\n",
       "      meta.speaker_type  \n",
       "0                     J  \n",
       "2                     J  \n",
       "4                     J  \n",
       "6                     J  \n",
       "8                     J  \n",
       "...                 ...  \n",
       "86904                 J  \n",
       "86906                 J  \n",
       "86908                 J  \n",
       "86910                 J  \n",
       "86912                 J  \n",
       "\n",
       "[44654 rows x 3 columns]"
      ]
     },
     "metadata": {},
     "output_type": "display_data"
    }
   ],
   "source": [
    "# also create df including only justices' utt\n",
    "rob_final_df_J = rob_final_df.loc[rob_final_df.loc[:, 'meta.speaker_type'] == 'J', :]\n",
    "rehn_final_df_J = rehn_final_df.loc[rehn_final_df.loc[:, 'meta.speaker_type'] == 'J', :]\n",
    "display(rob_final_df_J)"
   ]
  },
  {
   "cell_type": "code",
   "execution_count": 7,
   "metadata": {},
   "outputs": [],
   "source": [
    "# first train/test split - 70% train, 30% test\n",
    "rehn_train, rehn_test = train_test_split(rehn_final_df,\n",
    "                                         train_size=0.7,\n",
    "                                         stratify=rehn_final_df.loc[:, 'meta.speaker_type'])\n",
    "rob_train, rob_test = train_test_split(rob_final_df,\n",
    "                                       train_size=0.7,\n",
    "                                       stratify=rob_final_df.loc[:, 'meta.speaker_type'])\n",
    "\n",
    "# second train/test split to create validation set from test set (60% validation, 40% test)\n",
    "rehn_valid, rehn_test = train_test_split(rehn_test,\n",
    "                                         train_size=0.6,\n",
    "                                         stratify=rehn_test.loc[:, 'meta.speaker_type'])\n",
    "rob_valid, rob_test = train_test_split(rob_test,\n",
    "                                       train_size=0.6,\n",
    "                                       stratify=rob_test.loc[:, 'meta.speaker_type'])\n",
    "\n",
    "# overall, we now have a roughly 70/20/10 split for train, validate, and test for each corpus"
   ]
  },
  {
   "cell_type": "code",
   "execution_count": 8,
   "metadata": {},
   "outputs": [
    {
     "name": "stdout",
     "output_type": "stream",
     "text": [
      "meta.speaker_type\n",
      "A    74744\n",
      "J    74288\n",
      "Name: count, dtype: int64\n",
      "meta.speaker_type\n",
      "J    31257\n",
      "A    28978\n",
      "Name: count, dtype: int64\n"
     ]
    }
   ],
   "source": [
    "# Checking stratification - speaker types look balanced across both training sets \n",
    "print(rehn_train.loc[:, 'meta.speaker_type'].value_counts())\n",
    "print(rob_train.loc[:, 'meta.speaker_type'].value_counts())"
   ]
  },
  {
   "cell_type": "code",
   "execution_count": 9,
   "metadata": {},
   "outputs": [],
   "source": [
    "roberts_utterance_vect_train = rob_train.loc[:, 'text']\n",
    "roberts_label_vect_train = rob_train.loc[:, 'meta.win_side'].astype(float).to_numpy() #sklearn expects a numpy array for the labels\n",
    "roberts_utterance_vect_valid = rob_valid.loc[:, 'text']\n",
    "roberts_label_vect_valid = rob_valid.loc[:, 'meta.win_side'].astype(float).to_numpy()\n",
    "\n",
    "rehnquist_utterance_vect_train = rehn_train.loc[:, 'text']\n",
    "rehnquist_label_vect_train = rehn_train.loc[:, 'meta.win_side'].astype(float).to_numpy() #sklearn expects a numpy array for the labels\n",
    "rehnquist_utterance_vect_valid = rehn_valid.loc[:, 'text']\n",
    "rehnquist_label_vect_valid = rehn_valid.loc[:, 'meta.win_side'].astype(float).to_numpy()"
   ]
  },
  {
   "cell_type": "code",
   "execution_count": 10,
   "metadata": {},
   "outputs": [],
   "source": [
    "# do the same for df with only J\n",
    "rehn_train_J, rehn_test_J = train_test_split(rehn_final_df_J, train_size=0.7)\n",
    "rob_train_J, rob_test_J = train_test_split(rob_final_df_J, train_size=0.7)\n",
    "\n",
    "# second train/test split to create validation set from test set (60% validation, 40% test)\n",
    "rehn_valid_J, rehn_test_J = train_test_split(rehn_test_J, train_size=0.6)\n",
    "rob_valid_J, rob_test_J = train_test_split(rob_test_J, train_size=0.6)\n",
    "\n",
    "roberts_utterance_vect_train_J = rob_train_J.loc[:, 'text']\n",
    "roberts_label_vect_train_J = rob_train_J.loc[:, 'meta.win_side'].astype(float).to_numpy() #sklearn expects a numpy array for the labels\n",
    "roberts_utterance_vect_valid_J = rob_valid_J.loc[:, 'text']\n",
    "roberts_label_vect_valid_J = rob_valid_J.loc[:, 'meta.win_side'].astype(float).to_numpy()\n",
    "\n",
    "rehnquist_utterance_vect_train_J = rehn_train_J.loc[:, 'text']\n",
    "rehnquist_label_vect_train_J = rehn_train_J.loc[:, 'meta.win_side'].astype(float).to_numpy() #sklearn expects a numpy array for the labels\n",
    "rehnquist_utterance_vect_valid_J = rehn_valid_J.loc[:, 'text']\n",
    "rehnquist_label_vect_valid_J = rehn_valid_J.loc[:, 'meta.win_side'].astype(float).to_numpy()"
   ]
  },
  {
   "attachments": {},
   "cell_type": "markdown",
   "metadata": {},
   "source": [
    "### Features engineering\n",
    "Following the steps from [this resource](https://developers.google.com/machine-learning/guides/text-classification/step-2-5). Since at this point, the orderinng of words is not the question of interest, we chose the \"bag-of-words\" approach and used the following steps for data preprocessing:\n",
    "\n",
    "1) Tokenizing: Using words (as opposed to characters) and splitting utterances into 1-word and 2-word (unigram and bigram) tokens\n",
    "    - we also added a few specific rules to how the words were processed such as: keeping question marks but removing other punctuation that does not carry meaning, removing numbers, and including the standard nltk english stop words so that (similar to what tf-idf is doing), we can remove words that do not hold meaning in this context. \n",
    "2) Vectorizing: converting tokens into numerical vectors using count encoding (as opposed to one-hot encoding)\n",
    "    - for our case we chose to use [tf-idf encoding](https://en.wikipedia.org/wiki/Tf%e2%80%93idf) to represent the tokens in a manner that is reflective of their importance as this seems to be the general standard for encoding.\n",
    "3) Feature selection: using the tokens that have now been encoded according to their importance, we use f_classif (f-value classification) to regress them on their corresponding training labels and determine which ones have the best fit in this training set. \n",
    "    - we then choose the top k features that have been classified as having the best fit. Although k=20,000 is the recommended k, we chose 7000 since we are working with a relatively smaller number of features to model off of. \n"
   ]
  },
  {
   "attachments": {},
   "cell_type": "markdown",
   "metadata": {},
   "source": [
    "**Vectorization Parameters**"
   ]
  },
  {
   "cell_type": "code",
   "execution_count": 11,
   "metadata": {},
   "outputs": [],
   "source": [
    "# Range (inclusive) of n-gram sizes for tokenizing text (using unigrams and bigrams).\n",
    "NGRAM_RANGE = (1, 2)\n",
    "\n",
    "# Limit on the number of features. We use the top 2K features.\n",
    "TOP_K = 7000\n",
    "\n",
    "# Whether text should be split into word or character n-grams ('word' or 'char')\n",
    "TOKEN_MODE = 'word'\n",
    "\n",
    "# Minimum document/corpus frequency below which a token will be discarded.\n",
    "MIN_DOCUMENT_FREQUENCY = 5"
   ]
  },
  {
   "attachments": {},
   "cell_type": "markdown",
   "metadata": {},
   "source": [
    "**Vectorizing**"
   ]
  },
  {
   "cell_type": "code",
   "execution_count": 12,
   "metadata": {},
   "outputs": [],
   "source": [
    "def ngram_vectorize(train_texts, train_labels, val_texts):\n",
    "    \"\"\"Vectorizes texts as n-gram vectors.\n",
    "\n",
    "    1 text = 1 tf-idf vector the length of vocabulary of unigrams + bigrams.\n",
    "\n",
    "    # Arguments\n",
    "        train_texts: list, training text strings.\n",
    "        train_labels: np.ndarray, training labels.\n",
    "        val_texts: list, validation text strings.\n",
    "\n",
    "    # Returns\n",
    "        x_train, x_val: vectorized training and validation texts\n",
    "    \"\"\"\n",
    "    # Create keyword arguments to pass to the 'tf-idf' vectorizer.\n",
    "    kwargs = {\n",
    "            'ngram_range': NGRAM_RANGE,  # Use 1-grams + 2-grams.\n",
    "            'dtype': 'int32',\n",
    "            'strip_accents': 'unicode',\n",
    "            'decode_error': 'replace',\n",
    "            'analyzer': TOKEN_MODE,  # Split text into word tokens.\n",
    "            'min_df': MIN_DOCUMENT_FREQUENCY,\n",
    "            'stop_words': list(ENGLISH_STOP_WORDS),\n",
    "            'token_pattern': r\"(?u)\\b\\w\\w+\\b|\\?\", # preserving punctuation (might need to remove the strip accents part)\n",
    "    }\n",
    "\n",
    "    # The TfidfVectorizer instance vectorizer is created with the specified keyword arguments\n",
    "    vectorizer = TfidfVectorizer(**kwargs)\n",
    "\n",
    "    # The fit_transform() method is called on vectorizer using train_texts as the input.\n",
    "    # This step collects and learns the vocabulary from the training texts and vectorizes \n",
    "    # the training texts accordingly, assigning the resulting matrix to x_train.\n",
    "    x_train = vectorizer.fit_transform(train_texts).astype('float32')\n",
    "\n",
    "\n",
    "    # The transform() method is called on vectorizer using val_texts as the input.\n",
    "    # This step uses the previously learned vocabulary to vectorize the validation\n",
    "    # texts, assigning the resulting matrix to x_val.\n",
    "    x_val = vectorizer.transform(val_texts).astype('float32')\n",
    "\n",
    "    # The vocabulary_ attribute of the vectorizer is assigned to the vocabulary variable.\n",
    "    # This vocabulary dictionary represents the learned vocabulary, which was collected from the training texts.\n",
    "    vocabulary = vectorizer.vocabulary_\n",
    "\n",
    "    # Select top 'k' of the vectorized features.\n",
    "    selector = SelectKBest(f_classif, k=min(TOP_K, x_train.shape[1]))\n",
    "    selector.fit(x_train, train_labels)\n",
    "    selected_features = selector.get_support()\n",
    "    \n",
    "    # Create a dictionary counting the relevance of the k selected n-grams\n",
    "    vocabulary_sel = {ngram: index for ngram, index in vocabulary.items() if selected_features[index]}\n",
    "    ngram_counts = {}\n",
    "    for ngram, index in vocabulary_sel.items():\n",
    "        count = x_train[:, index].sum()\n",
    "        ngram_counts[ngram] = count\n",
    "\n",
    "    x_train = selector.transform(x_train).astype('float32')\n",
    "    x_val = selector.transform(x_val).astype('float32')\n",
    "\n",
    "    return x_train, x_val, ngram_counts"
   ]
  },
  {
   "cell_type": "code",
   "execution_count": 13,
   "metadata": {},
   "outputs": [
    {
     "name": "stderr",
     "output_type": "stream",
     "text": [
      "/Users/betty/Library/Python/3.8/lib/python/site-packages/sklearn/feature_extraction/text.py:2072: UserWarning: Only (<class 'numpy.float64'>, <class 'numpy.float32'>, <class 'numpy.float16'>) 'dtype' should be used. int32 'dtype' will be converted to np.float64.\n",
      "  warnings.warn(\n",
      "/Users/betty/Library/Python/3.8/lib/python/site-packages/sklearn/feature_extraction/text.py:2072: UserWarning: Only (<class 'numpy.float64'>, <class 'numpy.float32'>, <class 'numpy.float16'>) 'dtype' should be used. int32 'dtype' will be converted to np.float64.\n",
      "  warnings.warn(\n"
     ]
    }
   ],
   "source": [
    "rob_vect_train, rob_vect_valid, rob_voc = ngram_vectorize(roberts_utterance_vect_train,\n",
    "                                                          roberts_label_vect_train,\n",
    "                                                          roberts_utterance_vect_valid)\n",
    "\n",
    "rehn_vect_train, rehn_vect_valid, rehn_voc = ngram_vectorize(rehnquist_utterance_vect_train,\n",
    "                                                             rehnquist_label_vect_train,\n",
    "                                                             rehnquist_utterance_vect_valid)"
   ]
  },
  {
   "cell_type": "code",
   "execution_count": 14,
   "metadata": {},
   "outputs": [
    {
     "name": "stderr",
     "output_type": "stream",
     "text": [
      "/Users/betty/Library/Python/3.8/lib/python/site-packages/sklearn/feature_extraction/text.py:2072: UserWarning: Only (<class 'numpy.float64'>, <class 'numpy.float32'>, <class 'numpy.float16'>) 'dtype' should be used. int32 'dtype' will be converted to np.float64.\n",
      "  warnings.warn(\n",
      "/Users/betty/Library/Python/3.8/lib/python/site-packages/sklearn/feature_extraction/text.py:2072: UserWarning: Only (<class 'numpy.float64'>, <class 'numpy.float32'>, <class 'numpy.float16'>) 'dtype' should be used. int32 'dtype' will be converted to np.float64.\n",
      "  warnings.warn(\n"
     ]
    }
   ],
   "source": [
    "rob_vect_train_J, rob_vect_valid_J, rob_voc_J = ngram_vectorize(roberts_utterance_vect_train_J,\n",
    "                                                                roberts_label_vect_train_J,\n",
    "                                                                roberts_utterance_vect_valid_J)\n",
    "\n",
    "rehn_vect_train_J, rehn_vect_valid_J, rehn_voc_J = ngram_vectorize(rehnquist_utterance_vect_train_J,\n",
    "                                                                   rehnquist_label_vect_train_J,\n",
    "                                                                   rehnquist_utterance_vect_valid_J)"
   ]
  },
  {
   "attachments": {},
   "cell_type": "markdown",
   "metadata": {},
   "source": [
    "#### Top K Features"
   ]
  },
  {
   "cell_type": "code",
   "execution_count": 15,
   "metadata": {},
   "outputs": [
    {
     "name": "stdout",
     "output_type": "stream",
     "text": [
      "Rehnquist 7 Court Top-K Features:                     0\n",
      "yes       4542.816406\n",
      "honor     2415.663818\n",
      "justice   1421.051880\n",
      "state     1344.711426\n",
      "statute   1075.658813\n",
      "law       1048.602051\n",
      "does      1023.701416\n",
      "federal    836.333252\n",
      "congress   822.869751\n",
      "going      762.127075\n",
      "\n",
      "Roberts 4 Court Top-K Features:                    0\n",
      "?        1973.533447\n",
      "yes      1552.201538\n",
      "court     904.378113\n",
      "honor     856.139954\n",
      "case      854.614197\n",
      "justice   674.810730\n",
      "correct   575.940918\n",
      "state     534.027161\n",
      "going     492.076599\n",
      "counsel   436.226196\n"
     ]
    }
   ],
   "source": [
    "# Print top-k features\n",
    "rehnquist_voc = dict(sorted(rehn_voc.items(), key=lambda item: item[1], reverse = True))\n",
    "roberts_voc = dict(sorted(rob_voc.items(), key=lambda item: item[1], reverse = True))\n",
    "\n",
    "rehn_voc_df = pd.DataFrame.from_dict(rehnquist_voc, orient = 'index')\n",
    "rob_voc_df = pd.DataFrame.from_dict(roberts_voc, orient = 'index')\n",
    "\n",
    "print(\"Rehnquist 7 Court Top-K Features:\", rehn_voc_df.head(10))\n",
    "\n",
    "print(\"\\nRoberts 4 Court Top-K Features:\", rob_voc_df.head(10))"
   ]
  },
  {
   "cell_type": "code",
   "execution_count": 16,
   "metadata": {},
   "outputs": [
    {
     "name": "stdout",
     "output_type": "stream",
     "text": [
      "Rehnquist 7 Court Top-K Features (J only):                       0\n",
      "yes         1277.376709\n",
      "state        706.744263\n",
      "does         631.840698\n",
      "statute      570.419434\n",
      "law          568.376709\n",
      "didn         487.933411\n",
      "federal      433.273132\n",
      "want         425.289581\n",
      "way          383.733826\n",
      "government   376.371277\n",
      "\n",
      "Roberts 4 Court Top-K Features (J only):                          0\n",
      "?              1572.805542\n",
      "right           570.179626\n",
      "case            476.464630\n",
      "know            387.277954\n",
      "counsel         377.067505\n",
      "thank           323.754150\n",
      "court           313.901672\n",
      "going           299.511292\n",
      "state           284.193420\n",
      "thank counsel   258.522827\n"
     ]
    }
   ],
   "source": [
    "# Print top-k features for judges only\n",
    "rehnquist_voc_J = dict(sorted(rehn_voc_J.items(), key=lambda item: item[1], reverse = True))\n",
    "roberts_voc_J = dict(sorted(rob_voc_J.items(), key=lambda item: item[1], reverse = True))\n",
    "\n",
    "rehn_voc_df_J = pd.DataFrame.from_dict(rehnquist_voc_J, orient = 'index')\n",
    "rob_voc_df_J = pd.DataFrame.from_dict(roberts_voc_J, orient = 'index')\n",
    "\n",
    "print(\"Rehnquist 7 Court Top-K Features (J only):\", rehn_voc_df_J.head(10))\n",
    "\n",
    "print(\"\\nRoberts 4 Court Top-K Features (J only):\", rob_voc_df_J.head(10))"
   ]
  },
  {
   "attachments": {},
   "cell_type": "markdown",
   "metadata": {},
   "source": [
    "We note there are differences in the most relevant n-grams when using the aggregate dataset compared to using only the justices' utterances. Notably, affirmative words ('yes', 'okay') appear in the second case for Rehnquist court. It is however worth noting that most of the ngrams remain significant in the subset of justices."
   ]
  },
  {
   "attachments": {},
   "cell_type": "markdown",
   "metadata": {},
   "source": [
    "## 2. Building the Model\n",
    "Since we used the n-gram (\"bag-of-words\") approach for data processing (instead of a sequential approach), we can use logistic regression, simple multi-layer perceptrons (MLPs), or full neural networks, gradient boosted trees or support vector machines (SVM). \n",
    "\n",
    "We chose to test our preprocessed training and test data using a logistic regression to quickly get a sense of how our data is performing, and to compare it to the initial benchmarks that we established above.\n",
    "\n",
    "\n",
    "### Baseline: Basic Logistic Regression"
   ]
  },
  {
   "cell_type": "code",
   "execution_count": 17,
   "metadata": {},
   "outputs": [
    {
     "name": "stderr",
     "output_type": "stream",
     "text": [
      "/Users/betty/Library/Python/3.8/lib/python/site-packages/sklearn/linear_model/_logistic.py:458: ConvergenceWarning: lbfgs failed to converge (status=1):\n",
      "STOP: TOTAL NO. of ITERATIONS REACHED LIMIT.\n",
      "\n",
      "Increase the number of iterations (max_iter) or scale the data as shown in:\n",
      "    https://scikit-learn.org/stable/modules/preprocessing.html\n",
      "Please also refer to the documentation for alternative solver options:\n",
      "    https://scikit-learn.org/stable/modules/linear_model.html#logistic-regression\n",
      "  n_iter_i = _check_optimize_result(\n",
      "/Users/betty/Library/Python/3.8/lib/python/site-packages/sklearn/linear_model/_logistic.py:458: ConvergenceWarning: lbfgs failed to converge (status=1):\n",
      "STOP: TOTAL NO. of ITERATIONS REACHED LIMIT.\n",
      "\n",
      "Increase the number of iterations (max_iter) or scale the data as shown in:\n",
      "    https://scikit-learn.org/stable/modules/preprocessing.html\n",
      "Please also refer to the documentation for alternative solver options:\n",
      "    https://scikit-learn.org/stable/modules/linear_model.html#logistic-regression\n",
      "  n_iter_i = _check_optimize_result(\n"
     ]
    }
   ],
   "source": [
    "rehnquist_jlg = LogisticRegression().fit(rehn_vect_train, rehnquist_label_vect_train)\n",
    "rehnquist_predictions = rehnquist_jlg.predict(rehn_vect_valid)\n",
    "\n",
    "roberts_jlg = LogisticRegression().fit(rob_vect_train, roberts_label_vect_train)\n",
    "roberts_predictions = roberts_jlg.predict(rob_vect_valid)"
   ]
  },
  {
   "cell_type": "code",
   "execution_count": 18,
   "metadata": {},
   "outputs": [
    {
     "name": "stdout",
     "output_type": "stream",
     "text": [
      "Basic Logistic Regression\n",
      "Rehnquist 7 Court Accuracy Score: 0.6906215750743698\n",
      "Roberts 4 Court Accuracy Score: 0.7355542643166118\n"
     ]
    }
   ],
   "source": [
    "print(\"Basic Logistic Regression\")\n",
    "print(\"Rehnquist 7 Court Accuracy Score:\", accuracy_score(rehnquist_label_vect_valid, rehnquist_predictions))\n",
    "print(\"Roberts 4 Court Accuracy Score:\", accuracy_score(roberts_label_vect_valid, roberts_predictions))"
   ]
  },
  {
   "cell_type": "code",
   "execution_count": 19,
   "metadata": {},
   "outputs": [
    {
     "name": "stderr",
     "output_type": "stream",
     "text": [
      "/Users/betty/Library/Python/3.8/lib/python/site-packages/sklearn/linear_model/_logistic.py:458: ConvergenceWarning: lbfgs failed to converge (status=1):\n",
      "STOP: TOTAL NO. of ITERATIONS REACHED LIMIT.\n",
      "\n",
      "Increase the number of iterations (max_iter) or scale the data as shown in:\n",
      "    https://scikit-learn.org/stable/modules/preprocessing.html\n",
      "Please also refer to the documentation for alternative solver options:\n",
      "    https://scikit-learn.org/stable/modules/linear_model.html#logistic-regression\n",
      "  n_iter_i = _check_optimize_result(\n",
      "/Users/betty/Library/Python/3.8/lib/python/site-packages/sklearn/linear_model/_logistic.py:458: ConvergenceWarning: lbfgs failed to converge (status=1):\n",
      "STOP: TOTAL NO. of ITERATIONS REACHED LIMIT.\n",
      "\n",
      "Increase the number of iterations (max_iter) or scale the data as shown in:\n",
      "    https://scikit-learn.org/stable/modules/preprocessing.html\n",
      "Please also refer to the documentation for alternative solver options:\n",
      "    https://scikit-learn.org/stable/modules/linear_model.html#logistic-regression\n",
      "  n_iter_i = _check_optimize_result(\n"
     ]
    }
   ],
   "source": [
    "rehnquist_jlg_J = LogisticRegression().fit(rehn_vect_train_J, rehnquist_label_vect_train_J)\n",
    "rehnquist_predictions_J = rehnquist_jlg_J.predict(rehn_vect_valid_J)\n",
    "\n",
    "roberts_jlg_J = LogisticRegression().fit(rob_vect_train_J, roberts_label_vect_train_J)\n",
    "roberts_predictions_J = roberts_jlg_J.predict(rob_vect_valid_J)"
   ]
  },
  {
   "cell_type": "code",
   "execution_count": 20,
   "metadata": {},
   "outputs": [
    {
     "name": "stdout",
     "output_type": "stream",
     "text": [
      "Basic Logistic Regression\n",
      "Rehnquist 7 Court Accuracy Score (J only): 0.6799811538058842\n",
      "Roberts 4 Court Accuracy Score (J only): 0.7175914406568799\n"
     ]
    }
   ],
   "source": [
    "print(\"Basic Logistic Regression\")\n",
    "print(\"Rehnquist 7 Court Accuracy Score (J only):\", accuracy_score(rehnquist_label_vect_valid_J, rehnquist_predictions_J))\n",
    "print(\"Roberts 4 Court Accuracy Score (J only):\", accuracy_score(roberts_label_vect_valid_J, roberts_predictions_J))"
   ]
  },
  {
   "attachments": {},
   "cell_type": "markdown",
   "metadata": {},
   "source": [
    "Note that, even if our baseline model accuracy exceeds the 60% previously explained threshold, such accuracy slightly diminishes when considering only the justices. This is surprising, but seems to suggest that advocates' utterances are relevant and must be preserved. "
   ]
  },
  {
   "attachments": {},
   "cell_type": "markdown",
   "metadata": {},
   "source": [
    "#### Multi-Layer Perceptron"
   ]
  },
  {
   "cell_type": "code",
   "execution_count": 21,
   "metadata": {},
   "outputs": [
    {
     "name": "stderr",
     "output_type": "stream",
     "text": [
      "/Users/betty/Library/Python/3.8/lib/python/site-packages/sklearn/neural_network/_multilayer_perceptron.py:686: ConvergenceWarning: Stochastic Optimizer: Maximum iterations (200) reached and the optimization hasn't converged yet.\n",
      "  warnings.warn(\n"
     ]
    }
   ],
   "source": [
    "classif = MLPClassifier(hidden_layer_sizes=(30, 20, 10),\n",
    "                           solver='adam', \n",
    "                           activation='relu', \n",
    "                           learning_rate='adaptive', \n",
    "                           alpha=0.0001)\n",
    "\n",
    "classif.fit(rehn_vect_train, rehnquist_label_vect_train)\n",
    "rehnquist_predictions_MLP = classif.predict(rehn_vect_valid)"
   ]
  },
  {
   "cell_type": "code",
   "execution_count": 22,
   "metadata": {},
   "outputs": [
    {
     "name": "stderr",
     "output_type": "stream",
     "text": [
      "/Users/betty/Library/Python/3.8/lib/python/site-packages/sklearn/neural_network/_multilayer_perceptron.py:686: ConvergenceWarning: Stochastic Optimizer: Maximum iterations (200) reached and the optimization hasn't converged yet.\n",
      "  warnings.warn(\n"
     ]
    }
   ],
   "source": [
    "classif.fit(rob_vect_train, roberts_label_vect_train)\n",
    "roberts_predictions_MLP = classif.predict(rob_vect_valid)"
   ]
  },
  {
   "cell_type": "code",
   "execution_count": 23,
   "metadata": {},
   "outputs": [
    {
     "name": "stdout",
     "output_type": "stream",
     "text": [
      "Multi-layer Perceptron\n",
      "Rehnquist 7 Court Accuracy Score: 0.6884035279995825\n",
      "Roberts 4 Court Accuracy Score: 0.7331009103234554\n"
     ]
    }
   ],
   "source": [
    "print(\"Multi-layer Perceptron\")\n",
    "print(\"Rehnquist 7 Court Accuracy Score:\", accuracy_score(rehnquist_label_vect_valid, rehnquist_predictions_MLP))\n",
    "print(\"Roberts 4 Court Accuracy Score:\", accuracy_score(roberts_label_vect_valid, roberts_predictions_MLP))"
   ]
  },
  {
   "cell_type": "code",
   "execution_count": 24,
   "metadata": {},
   "outputs": [
    {
     "name": "stdout",
     "output_type": "stream",
     "text": [
      "Multi-layer Perceptron\n",
      "Roberts 4 Court Accuracy Score (J only): 0.7072654889275939\n"
     ]
    },
    {
     "name": "stderr",
     "output_type": "stream",
     "text": [
      "/Users/betty/Library/Python/3.8/lib/python/site-packages/sklearn/neural_network/_multilayer_perceptron.py:686: ConvergenceWarning: Stochastic Optimizer: Maximum iterations (200) reached and the optimization hasn't converged yet.\n",
      "  warnings.warn(\n"
     ]
    }
   ],
   "source": [
    "# classif.fit(rehn_vect_train_J, rehnquist_label_vect_train_J)  # takes too long\n",
    "# rehnquist_predictions_MLP_J = classif.predict(rehn_vect_valid_J)\n",
    "\n",
    "classif.fit(rob_vect_train_J, roberts_label_vect_train_J)\n",
    "roberts_predictions_MLP_J = classif.predict(rob_vect_valid_J)\n",
    "\n",
    "print(\"Multi-layer Perceptron\")\n",
    "# print(\"Rehnquist 7 Court Accuracy Score (J only):\", accuracy_score(rehnquist_label_vect_valid_J, rehnquist_predictions_MLP_J))\n",
    "print(\"Roberts 4 Court Accuracy Score (J only):\", accuracy_score(roberts_label_vect_valid_J, roberts_predictions_MLP_J))"
   ]
  },
  {
   "attachments": {},
   "cell_type": "markdown",
   "metadata": {},
   "source": [
    "When comparing the accuracy of our model for all the utterances and for the subset of judges' utterances only, we can't find significant differences: what is more, even if the accuracy is over our 60% threshold, it has decreased almost 3 p.p. compared to the use of the whole dataset. In line with our results when analyzing the n-grams, this seems to indicate that the utterances of the advocates are relevant and must be included in the model.\n",
    "\n",
    "Hence, we will only use the aggregate dataset for the last part."
   ]
  },
  {
   "attachments": {},
   "cell_type": "markdown",
   "metadata": {},
   "source": [
    "# 3. Performance evaluation\n",
    "\n",
    "We focused on a) a logistic regression model and b) a multilayer perceptron model with 3 hidden layers and reLU for both courts. Below is our evaluation of these models for each court. \n",
    "\n",
    "All models outperform the baseline, which was 64% for Rehnquist Court and 63% for the Roberts Court. \n",
    "\n",
    "Basic Logistic Regression\n",
    "* Rehnquist 7 Court Accuracy Score: 0.6906215750743698\n",
    "* Roberts 4 Court Accuracy Score: 0.7355542643166118\n",
    "\n",
    "Multi-layer Perceptron\n",
    "* Rehnquist 7 Court Accuracy Score: 0.6884035279995825\n",
    "* Roberts 4 Court Accuracy Score: 0.7331009103234554\n",
    "\n",
    "The MLP slightly underperforms the basic logistic regression model in Accuracy Scores, and significantly underperforms the basic logistic regression model in AUC.\n",
    "\n",
    "In the case of the Rehnquist Court - Accuracy Scores are a) 0.69 and b) 0.68. In the case of the Roberts Court - Accuracy Scores are a) 0.74 and b) 0.73.\n",
    "In the case of the Rehnquist Court - AUC is a) 0.69 and b) 0.69. In the case of the Roberts Court - the AUC is a) 0.74 and b) 0.73.\n",
    "\n",
    "All models were an improvement compared to the baseline, but there is room for iteration as we tune parameters in the next phase."
   ]
  },
  {
   "cell_type": "code",
   "execution_count": 25,
   "metadata": {},
   "outputs": [
    {
     "data": {
      "image/png": "[encoded data removed]",
      "text/plain": [
       "<Figure size 640x480 with 1 Axes>"
      ]
     },
     "metadata": {},
     "output_type": "display_data"
    }
   ],
   "source": [
    "# rehnquist court performance - logistic regression\n",
    "y_pred_proba = rehnquist_jlg.predict_proba(rehn_vect_valid)[:,1]\n",
    "fpr, tpr, thresholds = roc_curve(rehnquist_label_vect_valid, y_pred_proba)\n",
    "auc_score = roc_auc_score(rehnquist_label_vect_valid, y_pred_proba)\n",
    "\n",
    "# rehnquist court performance - multi-layer perceptron\n",
    "y_pred_proba2 = classif.predict_proba(rehn_vect_valid)[:,1]\n",
    "fpr2, tpr2, thresholds2 = roc_curve(rehnquist_label_vect_valid, y_pred_proba2)\n",
    "auc_score2 = roc_auc_score(rehnquist_label_vect_valid, y_pred_proba2)\n",
    "\n",
    "plt.plot(fpr, tpr, label='AUC - Logistic = %.2f' % auc_score)\n",
    "plt.plot(fpr2, tpr2, label='AUC - MLP = %.2f' % auc_score2)\n",
    "plt.plot([0, 1], [0, 1], 'k--')\n",
    "plt.xlim([0.0, 1.0])\n",
    "plt.ylim([0.0, 1.0])\n",
    "plt.xlabel('False Positive Rate')\n",
    "plt.ylabel('True Positive Rate')\n",
    "plt.title('Rehnquist 7 Court Receiver Operating Characteristic (ROC) Curve')\n",
    "plt.legend(loc=\"lower right\")\n",
    "plt.show()"
   ]
  },
  {
   "cell_type": "code",
   "execution_count": 26,
   "metadata": {},
   "outputs": [
    {
     "data": {
      "image/png": "[encoded data removed]",
      "text/plain": [
       "<Figure size 640x480 with 1 Axes>"
      ]
     },
     "metadata": {},
     "output_type": "display_data"
    }
   ],
   "source": [
    "# roberts court performance - logistic regression\n",
    "y_pred_proba = roberts_jlg.predict_proba(rob_vect_valid)[:,1]\n",
    "fpr, tpr, thresholds = roc_curve(roberts_label_vect_valid, y_pred_proba)\n",
    "auc_score = roc_auc_score(roberts_label_vect_valid, y_pred_proba)\n",
    "\n",
    "# roberts court performance - multi-layer perceptron\n",
    "y_pred_proba2 = classif.predict_proba(rob_vect_valid)[:,1]\n",
    "fpr2, tpr2, thresholds2 = roc_curve(roberts_label_vect_valid, y_pred_proba2)\n",
    "auc_score2 = roc_auc_score(roberts_label_vect_valid, y_pred_proba2)\n",
    "\n",
    "plt.plot(fpr, tpr, label='AUC - Logistic = %.2f' % auc_score)\n",
    "plt.plot(fpr2, tpr2, label='AUC - MLP = %.2f' % auc_score2)\n",
    "plt.plot([0, 1], [0, 1], 'k--')\n",
    "plt.xlim([0.0, 1.0])\n",
    "plt.ylim([0.0, 1.0])\n",
    "plt.xlabel('False Positive Rate')\n",
    "plt.ylabel('True Positive Rate')\n",
    "plt.title('Roberts 4 Court Receiver Operating Characteristic (ROC) Curve')\n",
    "plt.legend(loc=\"lower right\")\n",
    "plt.show()"
   ]
  }
 ],
 "metadata": {
  "kernelspec": {
   "display_name": "Python 3 (ipykernel)",
   "language": "python",
   "name": "python3"
  },
  "language_info": {
   "codemirror_mode": {
    "name": "ipython",
    "version": 3
   },
   "file_extension": ".py",
   "mimetype": "text/x-python",
   "name": "python",
   "nbconvert_exporter": "python",
   "pygments_lexer": "ipython3",
   "version": "3.8.2"
  }
 },
 "nbformat": 4,
 "nbformat_minor": 2
}
